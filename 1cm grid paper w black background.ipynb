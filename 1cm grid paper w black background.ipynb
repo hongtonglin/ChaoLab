{
  "nbformat": 4,
  "nbformat_minor": 0,
  "metadata": {
    "colab": {
      "provenance": [],
      "authorship_tag": "ABX9TyOL5CDELH6vwERgY6iGGCC3",
      "include_colab_link": true
    },
    "kernelspec": {
      "name": "python3",
      "display_name": "Python 3"
    },
    "language_info": {
      "name": "python"
    }
  },
  "cells": [
    {
      "cell_type": "markdown",
      "metadata": {
        "id": "view-in-github",
        "colab_type": "text"
      },
      "source": [
        "<a href=\"https://colab.research.google.com/github/hongtonglin/ChaoLab/blob/main/1cm%20grid%20paper%20w%20black%20background.ipynb\" target=\"_parent\"><img src=\"https://colab.research.google.com/assets/colab-badge.svg\" alt=\"Open In Colab\"/></a>"
      ]
    },
    {
      "cell_type": "code",
      "execution_count": 1,
      "metadata": {
        "colab": {
          "base_uri": "https://localhost:8080/"
        },
        "id": "k3T0fkP97ZWb",
        "outputId": "4056b264-4230-4734-a644-d62e43bb9238"
      },
      "outputs": [
        {
          "output_type": "stream",
          "name": "stdout",
          "text": [
            "Collecting fpdf2\n",
            "  Downloading fpdf2-2.7.8-py2.py3-none-any.whl (203 kB)\n",
            "\u001b[2K     \u001b[90m━━━━━━━━━━━━━━━━━━━━━━━━━━━━━━━━━━━━━━━━\u001b[0m \u001b[32m203.7/203.7 kB\u001b[0m \u001b[31m1.6 MB/s\u001b[0m eta \u001b[36m0:00:00\u001b[0m\n",
            "\u001b[?25hRequirement already satisfied: defusedxml in /usr/local/lib/python3.10/dist-packages (from fpdf2) (0.7.1)\n",
            "Requirement already satisfied: Pillow!=9.2.*,>=6.2.2 in /usr/local/lib/python3.10/dist-packages (from fpdf2) (9.4.0)\n",
            "Requirement already satisfied: fonttools>=4.34.0 in /usr/local/lib/python3.10/dist-packages (from fpdf2) (4.51.0)\n",
            "Installing collected packages: fpdf2\n",
            "Successfully installed fpdf2-2.7.8\n"
          ]
        }
      ],
      "source": [
        "!pip install fpdf2"
      ]
    },
    {
      "cell_type": "code",
      "source": [
        "import warnings\n",
        "warnings.simplefilter('default', DeprecationWarning)"
      ],
      "metadata": {
        "id": "wZZIgnJe7dQm"
      },
      "execution_count": 2,
      "outputs": []
    },
    {
      "cell_type": "code",
      "source": [
        "from fpdf import FPDF\n",
        "\n",
        "# Define page dimensions for landscape A4\n",
        "PAGE_WIDTH = 297  # in mm\n",
        "PAGE_HEIGHT = 210  # in mm\n",
        "PAGE_MARGIN = 20  # in mm\n",
        "\n",
        "# Define square size and line width\n",
        "SQUARE_SIZE = 10  # in mm\n",
        "LINE_WIDTH = 0.1  # in mm\n",
        "\n",
        "# Calculate the number of squares that can fit horizontally and vertically\n",
        "num_horizontal = int((PAGE_WIDTH - 2 * PAGE_MARGIN) / SQUARE_SIZE)\n",
        "num_vertical = int((PAGE_HEIGHT - 2 * PAGE_MARGIN) / SQUARE_SIZE)\n",
        "\n",
        "# Create a PDF object\n",
        "pdf = FPDF(orientation='L', unit='mm', format='A4')\n",
        "\n",
        "# Add a page\n",
        "pdf.add_page()\n",
        "\n",
        "# Set background color\n",
        "pdf.set_fill_color(0, 0, 0)  # Dark purple\n",
        "pdf.rect(0, 0, PAGE_WIDTH, PAGE_HEIGHT, 'F')\n",
        "\n",
        "# Set border color\n",
        "pdf.set_draw_color(255, 255, 255)  # White\n",
        "\n",
        "# Draw border\n",
        "pdf.rect(PAGE_MARGIN, PAGE_MARGIN, PAGE_WIDTH - 2 * PAGE_MARGIN, PAGE_HEIGHT - 2 * PAGE_MARGIN)\n",
        "\n",
        "# Set line color for grid\n",
        "pdf.set_draw_color(255, 255, 255)  # White\n",
        "\n",
        "# Draw grid\n",
        "for i in range(1, num_horizontal):\n",
        "    x = PAGE_MARGIN + i * SQUARE_SIZE\n",
        "    pdf.line(x, PAGE_MARGIN, x, PAGE_HEIGHT - PAGE_MARGIN)\n",
        "for i in range(1, num_vertical):\n",
        "    y = PAGE_MARGIN + i * SQUARE_SIZE\n",
        "    pdf.line(PAGE_MARGIN, y, PAGE_WIDTH - PAGE_MARGIN, y)\n",
        "\n",
        "# Add title\n",
        "pdf.set_font(\"Arial\", size=16)\n",
        "pdf.set_text_color(255, 255, 255)  # White\n",
        "pdf.set_xy(5, 5)\n",
        "pdf.cell(0, 10, \"1cm grid\", 0, 1, 'C')\n",
        "\n",
        "# Save the PDF to a file\n",
        "pdf.output(\"my-grid.pdf\")\n",
        "pdf_bytes = pdf.output()"
      ],
      "metadata": {
        "colab": {
          "base_uri": "https://localhost:8080/"
        },
        "id": "w84PwryZ7j3l",
        "outputId": "baa03459-15b0-4ea5-f583-4838898600f9"
      },
      "execution_count": 8,
      "outputs": [
        {
          "output_type": "stream",
          "name": "stderr",
          "text": [
            "<ipython-input-8-b67f26b89765>:44: DeprecationWarning: Substituting font arial by core font helvetica - This is deprecated since v2.7.8, and will soon be removed\n",
            "  pdf.set_font(\"Arial\", size=16)\n",
            "<ipython-input-8-b67f26b89765>:47: DeprecationWarning: The parameter \"ln\" is deprecated since v2.5.2. Instead of ln=1 use new_x=XPos.LMARGIN, new_y=YPos.NEXT.\n",
            "  pdf.cell(0, 10, \"1cm grid\", 0, 1, 'C')\n"
          ]
        }
      ]
    },
    {
      "cell_type": "code",
      "source": [
        "WIDTH, HEIGHT = 800, 400\n",
        "from base64 import b64encode\n",
        "from IPython.display import display, HTML\n",
        "base64_pdf = b64encode(pdf_bytes).decode(\"utf-8\")\n",
        "display(HTML(f'<embed src=\"data:application/pdf;base64,{base64_pdf}\" width=\"{WIDTH}\" height=\"{HEIGHT}\" type=\"application/pdf\">'))"
      ],
      "metadata": {
        "colab": {
          "base_uri": "https://localhost:8080/",
          "height": 421
        },
        "id": "hKLgjWhF7nsV",
        "outputId": "c372d2e2-5709-457a-bf83-684ae44afc22"
      },
      "execution_count": 9,
      "outputs": [
        {
          "output_type": "display_data",
          "data": {
            "text/plain": [
              "<IPython.core.display.HTML object>"
            ],
            "text/html": [
              "<embed src=\"data:application/pdf;base64,JVBERi0xLjMKMSAwIG9iago8PAovQ291bnQgMQovS2lkcyBbMyAwIFJdCi9NZWRpYUJveCBbMCAwIDg0MS44OSA1OTUuMjhdCi9UeXBlIC9QYWdlcwo+PgplbmRvYmoKMiAwIG9iago8PAovT3BlbkFjdGlvbiBbMyAwIFIgL0ZpdEggbnVsbF0KL1BhZ2VMYXlvdXQgL09uZUNvbHVtbgovUGFnZXMgMSAwIFIKL1R5cGUgL0NhdGFsb2cKPj4KZW5kb2JqCjMgMCBvYmoKPDwKL0NvbnRlbnRzIDQgMCBSCi9QYXJlbnQgMSAwIFIKL1Jlc291cmNlcyA2IDAgUgovVHlwZSAvUGFnZQo+PgplbmRvYmoKNCAwIG9iago8PAovRmlsdGVyIC9GbGF0ZURlY29kZQovTGVuZ3RoIDQxNwo+PgpzdHJlYW0KeJxV1DFu3DAQheFep5gyKXYikqJEtgFiA+li6wZxbDjIFtnG1zepN6t5xBbCL32QtCTFKD+nWfMmH+0wz5Jr1ljuh0tZgpYqtz/yOgXpv6fHKa+6VsmpaK6ylENctthy7vJ5Klnn5Q6ugryEUrVG+ddACElTdWE9kPbkLRFBD2Rrr1yIoAdSiy58FzSTGFfdNifWA8lZQySCHkhJuqxE0ExSaCMVnFgPZJk10F2sB7Ie4+wEPZC6aslE0EyW2OaX7mI9kJw00yxaDwRz78TWApEcZo10F+uBYDnhwhW03NuB3fwE1gT6C2YCaAL4kw7QDmygTmBNoA92IIAmgAlzgCbQJz0SQDs4Fs7mwJoAFp8DNIG+gAsBtAP7CE5gTQAfkgM0gf4x0mRZE8AH7QDtAHvCeR1Jq6G9Ms0UkgdJU+Yx6umXj53svHqUX7x0TY+2JoCDAzSB/rY0ftYEjr9LA3g/wQT7GRGc6OT7Lt8e2ma79jffX+XHPv2XdjLV9k20rWqNGpLsL4It+fYmX8Lvq7zd3l++yv63efk1fQJSrC1xCmVuZHN0cmVhbQplbmRvYmoKNSAwIG9iago8PAovQmFzZUZvbnQgL0hlbHZldGljYQovRW5jb2RpbmcgL1dpbkFuc2lFbmNvZGluZwovU3VidHlwZSAvVHlwZTEKL1R5cGUgL0ZvbnQKPj4KZW5kb2JqCjYgMCBvYmoKPDwKL0ZvbnQgPDwvRjEgNSAwIFI+PgovUHJvY1NldCBbL1BERiAvVGV4dCAvSW1hZ2VCIC9JbWFnZUMgL0ltYWdlSV0KPj4KZW5kb2JqCjcgMCBvYmoKPDwKL0NyZWF0aW9uRGF0ZSAoRDoyMDI0MDQxMjE1MzMxNFoxNSczMycpCj4+CmVuZG9iagp4cmVmCjAgOAowMDAwMDAwMDAwIDY1NTM1IGYgCjAwMDAwMDAwMDkgMDAwMDAgbiAKMDAwMDAwMDA5NiAwMDAwMCBuIAowMDAwMDAwMTk5IDAwMDAwIG4gCjAwMDAwMDAyNzkgMDAwMDAgbiAKMDAwMDAwMDc2OCAwMDAwMCBuIAowMDAwMDAwODY1IDAwMDAwIG4gCjAwMDAwMDA5NTIgMDAwMDAgbiAKdHJhaWxlcgo8PAovU2l6ZSA4Ci9Sb290IDIgMCBSCi9JbmZvIDcgMCBSCi9JRCBbPEM0QkRFRUNGNzZCQzM4QURFMjFDQkI3QjIwMkVGOUQyPjxDNEJERUVDRjc2QkMzOEFERTIxQ0JCN0IyMDJFRjlEMj5dCj4+CnN0YXJ0eHJlZgoxMDEzCiUlRU9GCg==\" width=\"800\" height=\"400\" type=\"application/pdf\">"
            ]
          },
          "metadata": {}
        }
      ]
    },
    {
      "cell_type": "code",
      "source": [
        "display(HTML(f'<a download=\"my-grid.pdf\" href=\"data:application/pdf;base64,{base64_pdf}\">Click to download PDF</a>'))"
      ],
      "metadata": {
        "colab": {
          "base_uri": "https://localhost:8080/",
          "height": 34
        },
        "id": "km2bCUZD7rA2",
        "outputId": "83915e07-c10a-4eb5-beb9-686050630313"
      },
      "execution_count": 10,
      "outputs": [
        {
          "output_type": "display_data",
          "data": {
            "text/plain": [
              "<IPython.core.display.HTML object>"
            ],
            "text/html": [
              "<a download=\"my-grid.pdf\" href=\"data:application/pdf;base64,JVBERi0xLjMKMSAwIG9iago8PAovQ291bnQgMQovS2lkcyBbMyAwIFJdCi9NZWRpYUJveCBbMCAwIDg0MS44OSA1OTUuMjhdCi9UeXBlIC9QYWdlcwo+PgplbmRvYmoKMiAwIG9iago8PAovT3BlbkFjdGlvbiBbMyAwIFIgL0ZpdEggbnVsbF0KL1BhZ2VMYXlvdXQgL09uZUNvbHVtbgovUGFnZXMgMSAwIFIKL1R5cGUgL0NhdGFsb2cKPj4KZW5kb2JqCjMgMCBvYmoKPDwKL0NvbnRlbnRzIDQgMCBSCi9QYXJlbnQgMSAwIFIKL1Jlc291cmNlcyA2IDAgUgovVHlwZSAvUGFnZQo+PgplbmRvYmoKNCAwIG9iago8PAovRmlsdGVyIC9GbGF0ZURlY29kZQovTGVuZ3RoIDQxNwo+PgpzdHJlYW0KeJxV1DFu3DAQheFep5gyKXYikqJEtgFiA+li6wZxbDjIFtnG1zepN6t5xBbCL32QtCTFKD+nWfMmH+0wz5Jr1ljuh0tZgpYqtz/yOgXpv6fHKa+6VsmpaK6ylENctthy7vJ5Klnn5Q6ugryEUrVG+ddACElTdWE9kPbkLRFBD2Rrr1yIoAdSiy58FzSTGFfdNifWA8lZQySCHkhJuqxE0ExSaCMVnFgPZJk10F2sB7Ie4+wEPZC6aslE0EyW2OaX7mI9kJw00yxaDwRz78TWApEcZo10F+uBYDnhwhW03NuB3fwE1gT6C2YCaAL4kw7QDmygTmBNoA92IIAmgAlzgCbQJz0SQDs4Fs7mwJoAFp8DNIG+gAsBtAP7CE5gTQAfkgM0gf4x0mRZE8AH7QDtAHvCeR1Jq6G9Ms0UkgdJU+Yx6umXj53svHqUX7x0TY+2JoCDAzSB/rY0ftYEjr9LA3g/wQT7GRGc6OT7Lt8e2ma79jffX+XHPv2XdjLV9k20rWqNGpLsL4It+fYmX8Lvq7zd3l++yv63efk1fQJSrC1xCmVuZHN0cmVhbQplbmRvYmoKNSAwIG9iago8PAovQmFzZUZvbnQgL0hlbHZldGljYQovRW5jb2RpbmcgL1dpbkFuc2lFbmNvZGluZwovU3VidHlwZSAvVHlwZTEKL1R5cGUgL0ZvbnQKPj4KZW5kb2JqCjYgMCBvYmoKPDwKL0ZvbnQgPDwvRjEgNSAwIFI+PgovUHJvY1NldCBbL1BERiAvVGV4dCAvSW1hZ2VCIC9JbWFnZUMgL0ltYWdlSV0KPj4KZW5kb2JqCjcgMCBvYmoKPDwKL0NyZWF0aW9uRGF0ZSAoRDoyMDI0MDQxMjE1MzMxNFoxNSczMycpCj4+CmVuZG9iagp4cmVmCjAgOAowMDAwMDAwMDAwIDY1NTM1IGYgCjAwMDAwMDAwMDkgMDAwMDAgbiAKMDAwMDAwMDA5NiAwMDAwMCBuIAowMDAwMDAwMTk5IDAwMDAwIG4gCjAwMDAwMDAyNzkgMDAwMDAgbiAKMDAwMDAwMDc2OCAwMDAwMCBuIAowMDAwMDAwODY1IDAwMDAwIG4gCjAwMDAwMDA5NTIgMDAwMDAgbiAKdHJhaWxlcgo8PAovU2l6ZSA4Ci9Sb290IDIgMCBSCi9JbmZvIDcgMCBSCi9JRCBbPEM0QkRFRUNGNzZCQzM4QURFMjFDQkI3QjIwMkVGOUQyPjxDNEJERUVDRjc2QkMzOEFERTIxQ0JCN0IyMDJFRjlEMj5dCj4+CnN0YXJ0eHJlZgoxMDEzCiUlRU9GCg==\">Click to download PDF</a>"
            ]
          },
          "metadata": {}
        }
      ]
    },
    {
      "cell_type": "code",
      "source": [],
      "metadata": {
        "id": "X4_2FC4t8APG"
      },
      "execution_count": null,
      "outputs": []
    }
  ]
}